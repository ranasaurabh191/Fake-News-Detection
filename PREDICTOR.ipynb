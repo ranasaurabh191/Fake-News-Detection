{
 "cells": [
  {
   "cell_type": "code",
   "execution_count": 1,
   "id": "2e0db9a5-d700-4348-8d8f-a200c56d6811",
   "metadata": {},
   "outputs": [],
   "source": [
    "import pandas as pd\n",
    "import re\n",
    "import string\n",
    "import pickle"
   ]
  },
  {
   "cell_type": "code",
   "execution_count": 2,
   "id": "7e68b238-aac2-47e4-b3e0-7bf3264c018b",
   "metadata": {},
   "outputs": [],
   "source": [
    "def wordopt(text):\n",
    "    text = text.lower()\n",
    "    text = re.sub(r'\\$\\$.*?\\$\\$', '', text)  # Use raw string (r'...')\n",
    "    text = re.sub(r\"\\W\", \" \", text)  # Use raw string\n",
    "    text = re.sub(r'https?://\\S+|www\\.\\S+', '', text)  # Use raw string\n",
    "    text = re.sub(r'<.*?>+', '', text)  # Use raw string\n",
    "    text = re.sub(r'[%s]' % re.escape(string.punctuation), '', text)  # Correct format\n",
    "    text = re.sub(r'\\w*\\d\\w*', '', text)  # Use raw string\n",
    "    return text"
   ]
  },
  {
   "cell_type": "code",
   "execution_count": 3,
   "id": "de4b7d24-99f2-4691-bc9f-128ff32b91cb",
   "metadata": {},
   "outputs": [],
   "source": [
    "def output_label(n):\n",
    "    return \"Fake News\" if n == 0 else \"Not A Fake News\""
   ]
  },
  {
   "cell_type": "code",
   "execution_count": 4,
   "id": "12b6c6bb-0786-4d45-bffc-a64edd68035a",
   "metadata": {},
   "outputs": [],
   "source": [
    "def manual_testing(news):\n",
    "    # Load the vectorizer and models\n",
    "    with open('vectorizer.pkl', 'rb') as f:\n",
    "        vectorization = pickle.load(f)\n",
    "    with open('logistic_regression_model.pkl', 'rb') as f:\n",
    "        LR = pickle.load(f)\n",
    "    with open('decision_tree_model.pkl', 'rb') as f:\n",
    "        DT = pickle.load(f)\n",
    "    with open('gradient_boosting_model.pkl', 'rb') as f:\n",
    "        GB = pickle.load(f)\n",
    "    with open('random_forest_model.pkl', 'rb') as f:\n",
    "        RF = pickle.load(f)\n",
    "\n",
    "    # Prepare the input news\n",
    "    testing_news = {\"text\": [news]}\n",
    "    new_def_test = pd.DataFrame(testing_news)\n",
    "    new_def_test['text'] = new_def_test[\"text\"].apply(wordopt)\n",
    "    new_x_test = new_def_test[\"text\"]\n",
    "    new_xv_test = vectorization.transform(new_x_test)\n",
    "\n",
    "    # Make predictions\n",
    "    pred_LR = LR.predict(new_xv_test)\n",
    "    pred_DT = DT.predict(new_xv_test)\n",
    "    pred_GB = GB.predict(new_xv_test)\n",
    "    pred_RF = RF.predict(new_xv_test)\n",
    "\n",
    "    # Print predictions\n",
    "    print(\"\\n\\nLR Prediction: {} \\nDT Prediction: {} \\nGBC Prediction: {} \\nRFC Prediction: {}\".format(\n",
    "        output_label(pred_LR[0]),\n",
    "        output_label(pred_DT[0]),\n",
    "        output_label(pred_GB[0]),\n",
    "        output_label(pred_RF[0])\n",
    "    ))\n"
   ]
  },
  {
   "cell_type": "code",
   "execution_count": 6,
   "id": "3c902697-7d57-4696-9136-739ffb44dc6f",
   "metadata": {},
   "outputs": [
    {
     "name": "stdout",
     "output_type": "stream",
     "text": [
      "Enter the news article:   Donald Trump Sends Out Embarrassing New Year’s Eve Message; This is Disturbing,\"Donald Trump just couldn t wish all Americans a Happy New Year and leave it at that. Instead, he had to give a shout out to his enemies, haters and  the very dishonest fake news media.  The former reality show star had just one job to do and he couldn t do it. As our Country rapidly grows stronger and smarter, I want to wish all of my friends, supporters, enemies, haters, and even the very dishonest Fake News Media, a Happy and Healthy New Year,  President Angry Pants tweeted.  2018 will be a great year for America! As our Country rapidly grows stronger and smarter, I want to wish all of my friends, supporters, enemies, haters, and even the very dishonest Fake News Media, a Happy and Healthy New Year. 2018 will be a great year for America!  Donald J. Trump (@realDonaldTrump) December 31, 2017Trump s tweet went down about as welll as you d expect.What kind of president sends a New Year s greeting like this despicable, petty, infantile gibberish? Only Trump! His lack of decency won t even allow him to rise above the gutter long enough to wish the American citizens a happy new year!  Bishop Talbert Swan (@TalbertSwan) December 31, 2017no one likes you  Calvin (@calvinstowell) December 31, 2017Your impeachment would make 2018 a great year for America, but I ll also accept regaining control of Congress.  Miranda Yaver (@mirandayaver) December 31, 2017Do you hear yourself talk? When you have to include that many people that hate you you have to wonder? Why do the they all hate me?  Alan Sandoval (@AlanSandoval13) December 31, 2017Who uses the word Haters in a New Years wish??  Marlene (@marlene399) December 31, 2017You can t just say happy new year?  Koren pollitt (@Korencarpenter) December 31, 2017Here s Trump s New Year s Eve tweet from 2016.Happy New Year to all, including to my many enemies and those who have fought me and lost so badly they just don t know what to do. Love!  Donald J. Trump (@realDonaldTrump) December 31, 2016This is nothing new for Trump. He s been doing this for years.Trump has directed messages to his  enemies  and  haters  for New Year s, Easter, Thanksgiving, and the anniversary of 9/11. pic.twitter.com/4FPAe2KypA  Daniel Dale (@ddale8) December 31, 2017Trump s holiday tweets are clearly not presidential.How long did he work at Hallmark before becoming President?  Steven Goodine (@SGoodine) December 31, 2017He s always been like this . . . the only difference is that in the last few years, his filter has been breaking down.  Roy Schulze (@thbthttt) December 31, 2017Who, apart from a teenager uses the term haters?  Wendy (@WendyWhistles) December 31, 2017he s a fucking 5 year old  Who Knows (@rainyday80) December 31, 2017So, to all the people who voted for this a hole thinking he would change once he got into power, you were wrong! 70-year-old men don t change and now he s a year older.Photo by Andrew Burton/Getty Images.\",News,\"December 31, 2017\"\n"
     ]
    },
    {
     "name": "stdout",
     "output_type": "stream",
     "text": [
      "\n",
      "\n",
      "LR Prediction: Fake News \n",
      "DT Prediction: Fake News \n",
      "GBC Prediction: Fake News \n",
      "RFC Prediction: Fake News\n"
     ]
    }
   ],
   "source": [
    "if __name__ == \"__main__\":\n",
    "    news_input = input(\"Enter the news article: \")\n",
    "    manual_testing(news_input)"
   ]
  },
  {
   "cell_type": "code",
   "execution_count": null,
   "id": "83349898-36ba-47eb-8a4c-928241b28b8d",
   "metadata": {},
   "outputs": [],
   "source": []
  }
 ],
 "metadata": {
  "kernelspec": {
   "display_name": "Python 3",
   "language": "python",
   "name": "python3"
  },
  "language_info": {
   "codemirror_mode": {
    "name": "ipython",
    "version": 3
   },
   "file_extension": ".py",
   "mimetype": "text/x-python",
   "name": "python",
   "nbconvert_exporter": "python",
   "pygments_lexer": "ipython3",
   "version": "3.12.3"
  }
 },
 "nbformat": 4,
 "nbformat_minor": 5
}
